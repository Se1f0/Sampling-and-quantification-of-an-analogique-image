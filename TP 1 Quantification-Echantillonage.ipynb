{
 "cells": [
  {
   "cell_type": "markdown",
   "metadata": {},
   "source": [
    "# TP à rendre 1 quantification et échantillonage\n",
    "Dans ce TP, nous aimerions transformer une image pseudo analogique en image numérique. \n",
    "L'image à coordonnées (x,y) réelles et valeurs d'amplitude f(x,y) réelles, devra être numérisée en:\n",
    "- transformant d'abord les coordonnées en entiers \n",
    "- transformant ensuite les amplitudes en entiers\n",
    "\n",
    "L'image pseudo analogique est contenue dans le fichier de données à loader."
   ]
  },
  {
   "cell_type": "markdown",
   "metadata": {},
   "source": [
    "# Importantion des librairies necessaires au travail"
   ]
  },
  {
   "cell_type": "code",
   "execution_count": 592,
   "metadata": {},
   "outputs": [],
   "source": [
    "import numpy as np\n",
    "import cv2\n",
    "import matplotlib.pyplot as plt"
   ]
  },
  {
   "cell_type": "markdown",
   "metadata": {},
   "source": [
    "# Lecture des fichiers d'amplitude et coordonnées"
   ]
  },
  {
   "cell_type": "code",
   "execution_count": 593,
   "metadata": {},
   "outputs": [],
   "source": [
    "outfile1 = 'lines1.npy'\n",
    "outfile2 = 'Cols1.npy'\n",
    "outfile3 = 'amplitude1.npy'\n",
    "lines=np.load(outfile1)\n",
    "cols=np.load(outfile2)\n",
    "amplitude=np.load(outfile3)"
   ]
  },
  {
   "cell_type": "markdown",
   "metadata": {},
   "source": [
    "# Functions"
   ]
  },
  {
   "cell_type": "code",
   "execution_count": 594,
   "metadata": {},
   "outputs": [],
   "source": [
    "def sampling(w,h,step):\n",
    "    matrix = np.ones((h,w))\n",
    "    for i in range(0,h,step):\n",
    "        for j in range(0,w,step):\n",
    "            x = int(lines[i]*h)\n",
    "            y = int(cols[j]*w)\n",
    "            matrix[x][y]=int(amplitude[x][y]*1000)\n",
    "    return matrix\n",
    "\n",
    "def createRange(min,max):\n",
    "    offset = int(max / L)\n",
    "    val_range = [[0,offset,0]]\n",
    "    for i in range(2,L):\n",
    "        val = [(i-1)*offset+1,i*offset,i-1]\n",
    "        val_range.append(val)\n",
    "    val = [(i)*offset+1,max,L-1]\n",
    "    val_range.append(val)\n",
    "    # for k in val_range:\n",
    "    #     temp = format(k[2],\"b\")\n",
    "    #     while len(temp) < 4 :\n",
    "    #         temp = '0' + temp\n",
    "    #     k[2] = temp\n",
    "    return val_range\n",
    "        \n",
    "def codify(c,val_range):\n",
    "    val = -1\n",
    "    for i in range(len(val_range)) :\n",
    "        if c >= val_range[i][0] and c <= val_range[i][1] :\n",
    "            k = val_range[i]\n",
    "            val = k[2]\n",
    "            break\n",
    "    return val "
   ]
  },
  {
   "cell_type": "markdown",
   "metadata": {},
   "source": [
    "# Echantillonage"
   ]
  },
  {
   "cell_type": "code",
   "execution_count": 595,
   "metadata": {},
   "outputs": [
    {
     "name": "stdout",
     "output_type": "stream",
     "text": [
      "[[1000.    1. 1000. ...    1. 1000.    1.]\n",
      " [   1.    1.    1. ...    1.    1.    1.]\n",
      " [1000.    1. 1000. ...    1. 1000.    1.]\n",
      " ...\n",
      " [   1.    1.    1. ...    1.    1.    1.]\n",
      " [1000.    1. 1000. ...    1. 1000.    1.]\n",
      " [   1.    1.    1. ...    1.    1.    1.]]\n"
     ]
    }
   ],
   "source": [
    "# utiliser un saut pour l'échantillonage\n",
    "step=2\n",
    "# réaliser l'échantillonage\n",
    "w = len(cols)\n",
    "h = len(lines)\n",
    "resultat = sampling(w,h,step)\n",
    "print(resultat)"
   ]
  },
  {
   "cell_type": "markdown",
   "metadata": {},
   "source": [
    "# Quantification"
   ]
  },
  {
   "cell_type": "code",
   "execution_count": 596,
   "metadata": {},
   "outputs": [
    {
     "name": "stdout",
     "output_type": "stream",
     "text": [
      "[[0, 62, 0], [63, 124, 1], [125, 186, 2], [187, 248, 3], [249, 310, 4], [311, 372, 5], [373, 434, 6], [435, 496, 7], [497, 558, 8], [559, 620, 9], [621, 682, 10], [683, 744, 11], [745, 806, 12], [807, 868, 13], [869, 930, 14], [931, 1000.0, 15]]\n"
     ]
    }
   ],
   "source": [
    "nBits=4\n",
    "# calculer le nombre de niveaux de gris\n",
    "L= pow(2,nBits)\n",
    "#réaliser la quantification\n",
    "min = resultat.min()\n",
    "max = resultat.max()\n",
    "val_range = createRange(min,max)\n",
    "print(val_range)\n",
    "\n",
    "for i in range(h):\n",
    "    for j in range(w):\n",
    "        c = codify(resultat[i][j],val_range)\n",
    "        resultat[i][j] = c"
   ]
  },
  {
   "cell_type": "markdown",
   "metadata": {},
   "source": [
    "# Afficher l'image résultante"
   ]
  },
  {
   "cell_type": "code",
   "execution_count": 597,
   "metadata": {},
   "outputs": [
    {
     "data": {
      "text/plain": [
       "<matplotlib.image.AxesImage at 0x21837559b50>"
      ]
     },
     "execution_count": 597,
     "metadata": {},
     "output_type": "execute_result"
    },
    {
     "data": {
      "image/png": "[encoded data removed]",
      "text/plain": [
       "<Figure size 432x288 with 1 Axes>"
      ]
     },
     "metadata": {
      "needs_background": "light"
     },
     "output_type": "display_data"
    }
   ],
   "source": [
    "plt.imshow(resultat,cmap='gray')"
   ]
  },
  {
   "cell_type": "markdown",
   "metadata": {},
   "source": [
    "# Sauvegarder l'image résultante"
   ]
  },
  {
   "cell_type": "code",
   "execution_count": 598,
   "metadata": {},
   "outputs": [],
   "source": [
    "plt.imsave(\"résultat.png\", resultat, cmap='gray')"
   ]
  },
  {
   "cell_type": "markdown",
   "metadata": {},
   "source": [
    "# Lecture et affichage d'une autre image \n"
   ]
  },
  {
   "cell_type": "code",
   "execution_count": 599,
   "metadata": {
    "scrolled": true
   },
   "outputs": [],
   "source": [
    "# lecture de l'image en niveau de gris\n",
    "image = cv2.imread('toAdd.bmp',0)"
   ]
  },
  {
   "cell_type": "code",
   "execution_count": 600,
   "metadata": {},
   "outputs": [],
   "source": [
    "# afficher avec opencv\n",
    "cv2.namedWindow('image', cv2.WINDOW_NORMAL)\n",
    "cv2.imshow('image',image)\n",
    "cv2.waitKey(0)\n",
    "cv2.destroyAllWindows()"
   ]
  },
  {
   "cell_type": "markdown",
   "metadata": {},
   "source": [
    "# Réaliser les operations sur l'image"
   ]
  },
  {
   "cell_type": "markdown",
   "metadata": {},
   "source": [
    "Addition des deux images"
   ]
  },
  {
   "cell_type": "code",
   "execution_count": 601,
   "metadata": {},
   "outputs": [],
   "source": [
    "# additionner image et resultat\n",
    "# si les deux images ne sont pas de même taille, \n",
    "# il faudra les redimensionner\n",
    "# analyser les paramètres de redimensionnement"
   ]
  },
  {
   "cell_type": "markdown",
   "metadata": {},
   "source": [
    "Negatif de l'image"
   ]
  },
  {
   "cell_type": "code",
   "execution_count": 602,
   "metadata": {},
   "outputs": [
    {
     "ename": "NameError",
     "evalue": "name 'imageN' is not defined",
     "output_type": "error",
     "traceback": [
      "\u001b[1;31m---------------------------------------------------------------------------\u001b[0m",
      "\u001b[1;31mNameError\u001b[0m                                 Traceback (most recent call last)",
      "\u001b[1;32m~\\AppData\\Local\\Temp/ipykernel_11836/217823053.py\u001b[0m in \u001b[0;36m<module>\u001b[1;34m\u001b[0m\n\u001b[0;32m      2\u001b[0m \u001b[1;33m\u001b[0m\u001b[0m\n\u001b[0;32m      3\u001b[0m \u001b[1;31m# afficher l'image résultante\u001b[0m\u001b[1;33m\u001b[0m\u001b[1;33m\u001b[0m\u001b[1;33m\u001b[0m\u001b[0m\n\u001b[1;32m----> 4\u001b[1;33m \u001b[0mplt\u001b[0m\u001b[1;33m.\u001b[0m\u001b[0mimshow\u001b[0m\u001b[1;33m(\u001b[0m\u001b[0mimageN\u001b[0m\u001b[1;33m,\u001b[0m\u001b[0mcmap\u001b[0m\u001b[1;33m=\u001b[0m\u001b[1;34m'gray'\u001b[0m\u001b[1;33m)\u001b[0m\u001b[1;33m\u001b[0m\u001b[1;33m\u001b[0m\u001b[0m\n\u001b[0m",
      "\u001b[1;31mNameError\u001b[0m: name 'imageN' is not defined"
     ]
    }
   ],
   "source": [
    "# soustraire de 255 de chaque pixel \n",
    "\n",
    "# afficher l'image résultante\n",
    "plt.imshow(imageN,cmap='gray')"
   ]
  },
  {
   "cell_type": "markdown",
   "metadata": {},
   "source": [
    "# Consignes"
   ]
  },
  {
   "cell_type": "markdown",
   "metadata": {},
   "source": [
    "Le travail est à remettre par groupe de 4 au maximum [1..4].\n",
    "\n",
    "Le délai est le vendredi à 19h"
   ]
  },
  {
   "cell_type": "code",
   "execution_count": null,
   "metadata": {},
   "outputs": [],
   "source": [
    "# bonne chance"
   ]
  }
 ],
 "metadata": {
  "interpreter": {
   "hash": "e1fa981093107e5e7682f9a873a43ef246d51140e2359dad358d64b89d32088d"
  },
  "kernelspec": {
   "display_name": "Python 3.9.4 64-bit",
   "name": "python3"
  },
  "language_info": {
   "codemirror_mode": {
    "name": "ipython",
    "version": 3
   },
   "file_extension": ".py",
   "mimetype": "text/x-python",
   "name": "python",
   "nbconvert_exporter": "python",
   "pygments_lexer": "ipython3",
   "version": "3.9.4"
  }
 },
 "nbformat": 4,
 "nbformat_minor": 2
}
